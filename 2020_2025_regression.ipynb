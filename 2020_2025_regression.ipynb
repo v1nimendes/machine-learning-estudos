{
 "cells": [
  {
   "cell_type": "code",
   "execution_count": 1,
   "id": "abfdded0",
   "metadata": {},
   "outputs": [],
   "source": [
    "import pandas as pd\n",
    "\n",
    "data = pd.read_csv('datasets/2020-2025.csv')"
   ]
  },
  {
   "cell_type": "code",
   "execution_count": 2,
   "id": "9e64b75a",
   "metadata": {},
   "outputs": [],
   "source": [
    "data = data.drop(columns='Country')"
   ]
  },
  {
   "cell_type": "code",
   "execution_count": 3,
   "id": "08a7cc7d",
   "metadata": {},
   "outputs": [
    {
     "data": {
      "text/html": [
       "<div>\n",
       "<style scoped>\n",
       "    .dataframe tbody tr th:only-of-type {\n",
       "        vertical-align: middle;\n",
       "    }\n",
       "\n",
       "    .dataframe tbody tr th {\n",
       "        vertical-align: top;\n",
       "    }\n",
       "\n",
       "    .dataframe thead th {\n",
       "        text-align: right;\n",
       "    }\n",
       "</style>\n",
       "<table border=\"1\" class=\"dataframe\">\n",
       "  <thead>\n",
       "    <tr style=\"text-align: right;\">\n",
       "      <th></th>\n",
       "      <th>2020</th>\n",
       "      <th>2021</th>\n",
       "      <th>2022</th>\n",
       "      <th>2023</th>\n",
       "      <th>2024</th>\n",
       "      <th>2025</th>\n",
       "    </tr>\n",
       "  </thead>\n",
       "  <tbody>\n",
       "    <tr>\n",
       "      <th>0</th>\n",
       "      <td>20136</td>\n",
       "      <td>14278.0</td>\n",
       "      <td>14501.0</td>\n",
       "      <td>17248.0</td>\n",
       "      <td>NaN</td>\n",
       "      <td>NaN</td>\n",
       "    </tr>\n",
       "    <tr>\n",
       "      <th>1</th>\n",
       "      <td>15271</td>\n",
       "      <td>18086.0</td>\n",
       "      <td>19185.0</td>\n",
       "      <td>23388.0</td>\n",
       "      <td>27259.0</td>\n",
       "      <td>28372.0</td>\n",
       "    </tr>\n",
       "    <tr>\n",
       "      <th>2</th>\n",
       "      <td>164774</td>\n",
       "      <td>185850.0</td>\n",
       "      <td>225709.0</td>\n",
       "      <td>247789.0</td>\n",
       "      <td>264913.0</td>\n",
       "      <td>268885.0</td>\n",
       "    </tr>\n",
       "    <tr>\n",
       "      <th>3</th>\n",
       "      <td>2885</td>\n",
       "      <td>3325.0</td>\n",
       "      <td>3376.0</td>\n",
       "      <td>3786.0</td>\n",
       "      <td>4038.0</td>\n",
       "      <td>4035.0</td>\n",
       "    </tr>\n",
       "    <tr>\n",
       "      <th>4</th>\n",
       "      <td>66521</td>\n",
       "      <td>84375.0</td>\n",
       "      <td>142442.0</td>\n",
       "      <td>109764.0</td>\n",
       "      <td>115946.0</td>\n",
       "      <td>113343.0</td>\n",
       "    </tr>\n",
       "    <tr>\n",
       "      <th>...</th>\n",
       "      <td>...</td>\n",
       "      <td>...</td>\n",
       "      <td>...</td>\n",
       "      <td>...</td>\n",
       "      <td>...</td>\n",
       "      <td>...</td>\n",
       "    </tr>\n",
       "    <tr>\n",
       "      <th>191</th>\n",
       "      <td>346310</td>\n",
       "      <td>370076.0</td>\n",
       "      <td>411068.0</td>\n",
       "      <td>433008.0</td>\n",
       "      <td>459472.0</td>\n",
       "      <td>490970.0</td>\n",
       "    </tr>\n",
       "    <tr>\n",
       "      <th>192</th>\n",
       "      <td>15532</td>\n",
       "      <td>18109.0</td>\n",
       "      <td>19166.0</td>\n",
       "      <td>17848.0</td>\n",
       "      <td>NaN</td>\n",
       "      <td>NaN</td>\n",
       "    </tr>\n",
       "    <tr>\n",
       "      <th>193</th>\n",
       "      <td>20220</td>\n",
       "      <td>19394.0</td>\n",
       "      <td>23534.0</td>\n",
       "      <td>19412.0</td>\n",
       "      <td>19101.0</td>\n",
       "      <td>17401.0</td>\n",
       "    </tr>\n",
       "    <tr>\n",
       "      <th>194</th>\n",
       "      <td>18138</td>\n",
       "      <td>22096.0</td>\n",
       "      <td>29164.0</td>\n",
       "      <td>27578.0</td>\n",
       "      <td>26326.0</td>\n",
       "      <td>28910.0</td>\n",
       "    </tr>\n",
       "    <tr>\n",
       "      <th>195</th>\n",
       "      <td>26878</td>\n",
       "      <td>36016.0</td>\n",
       "      <td>32613.0</td>\n",
       "      <td>35144.0</td>\n",
       "      <td>35224.0</td>\n",
       "      <td>38172.0</td>\n",
       "    </tr>\n",
       "  </tbody>\n",
       "</table>\n",
       "<p>196 rows × 6 columns</p>\n",
       "</div>"
      ],
      "text/plain": [
       "       2020      2021      2022      2023      2024      2025\n",
       "0     20136   14278.0   14501.0   17248.0       NaN       NaN\n",
       "1     15271   18086.0   19185.0   23388.0   27259.0   28372.0\n",
       "2    164774  185850.0  225709.0  247789.0  264913.0  268885.0\n",
       "3      2885    3325.0    3376.0    3786.0    4038.0    4035.0\n",
       "4     66521   84375.0  142442.0  109764.0  115946.0  113343.0\n",
       "..      ...       ...       ...       ...       ...       ...\n",
       "191  346310  370076.0  411068.0  433008.0  459472.0  490970.0\n",
       "192   15532   18109.0   19166.0   17848.0       NaN       NaN\n",
       "193   20220   19394.0   23534.0   19412.0   19101.0   17401.0\n",
       "194   18138   22096.0   29164.0   27578.0   26326.0   28910.0\n",
       "195   26878   36016.0   32613.0   35144.0   35224.0   38172.0\n",
       "\n",
       "[196 rows x 6 columns]"
      ]
     },
     "execution_count": 3,
     "metadata": {},
     "output_type": "execute_result"
    }
   ],
   "source": [
    "data"
   ]
  },
  {
   "cell_type": "code",
   "execution_count": 4,
   "id": "842335f1",
   "metadata": {},
   "outputs": [
    {
     "data": {
      "text/plain": [
       "2020    0\n",
       "2021    2\n",
       "2022    2\n",
       "2023    2\n",
       "2024    4\n",
       "2025    7\n",
       "dtype: int64"
      ]
     },
     "execution_count": 4,
     "metadata": {},
     "output_type": "execute_result"
    }
   ],
   "source": [
    "data.isnull().sum()"
   ]
  },
  {
   "cell_type": "code",
   "execution_count": 5,
   "id": "2ec06ef6",
   "metadata": {},
   "outputs": [],
   "source": [
    "data = data.dropna(subset=['2021', '2022', '2023', '2024', '2025'])"
   ]
  },
  {
   "cell_type": "code",
   "execution_count": 6,
   "id": "641ba9e9",
   "metadata": {},
   "outputs": [
    {
     "data": {
      "text/plain": [
       "2020    0\n",
       "2021    0\n",
       "2022    0\n",
       "2023    0\n",
       "2024    0\n",
       "2025    0\n",
       "dtype: int64"
      ]
     },
     "execution_count": 6,
     "metadata": {},
     "output_type": "execute_result"
    }
   ],
   "source": [
    "data.isnull().sum()"
   ]
  },
  {
   "cell_type": "code",
   "execution_count": 7,
   "id": "4d6bcabb",
   "metadata": {},
   "outputs": [
    {
     "data": {
      "text/plain": [
       "2020      2021        2022        2023        2024        2025      \n",
       "52        62.0        61.0        63.0        65.0        65.0          1\n",
       "125       176.0       152.0       152.0       161.0       169.0         1\n",
       "222       285.0       271.0       289.0       308.0       312.0         1\n",
       "242       259.0       253.0       259.0       280.0       297.0         1\n",
       "259       236.0       248.0       275.0       306.0       333.0         1\n",
       "                                                                       ..\n",
       "2698705   3144079.0   3125404.0   3371118.0   3644636.0   3839180.0     1\n",
       "3936989   4351188.0   4166872.0   4527009.0   4658526.0   4744804.0     1\n",
       "5054069   5039148.0   4262146.0   4213167.0   4026211.0   4186431.0     1\n",
       "15103357  18190803.0  18307816.0  18270351.0  18748009.0  19231705.0    1\n",
       "21354125  23681175.0  26006900.0  27720725.0  29184900.0  30507217.0    1\n",
       "Name: count, Length: 189, dtype: int64"
      ]
     },
     "execution_count": 7,
     "metadata": {},
     "output_type": "execute_result"
    }
   ],
   "source": [
    "data.value_counts()"
   ]
  },
  {
   "cell_type": "code",
   "execution_count": 8,
   "id": "8872f48a",
   "metadata": {},
   "outputs": [
    {
     "data": {
      "text/html": [
       "<div>\n",
       "<style scoped>\n",
       "    .dataframe tbody tr th:only-of-type {\n",
       "        vertical-align: middle;\n",
       "    }\n",
       "\n",
       "    .dataframe tbody tr th {\n",
       "        vertical-align: top;\n",
       "    }\n",
       "\n",
       "    .dataframe thead th {\n",
       "        text-align: right;\n",
       "    }\n",
       "</style>\n",
       "<table border=\"1\" class=\"dataframe\">\n",
       "  <thead>\n",
       "    <tr style=\"text-align: right;\">\n",
       "      <th></th>\n",
       "      <th>2020</th>\n",
       "      <th>2021</th>\n",
       "      <th>2022</th>\n",
       "      <th>2023</th>\n",
       "      <th>2024</th>\n",
       "      <th>2025</th>\n",
       "    </tr>\n",
       "  </thead>\n",
       "  <tbody>\n",
       "    <tr>\n",
       "      <th>count</th>\n",
       "      <td>1.890000e+02</td>\n",
       "      <td>1.890000e+02</td>\n",
       "      <td>1.890000e+02</td>\n",
       "      <td>1.890000e+02</td>\n",
       "      <td>1.890000e+02</td>\n",
       "      <td>1.890000e+02</td>\n",
       "    </tr>\n",
       "    <tr>\n",
       "      <th>mean</th>\n",
       "      <td>4.514222e+05</td>\n",
       "      <td>5.151044e+05</td>\n",
       "      <td>5.367216e+05</td>\n",
       "      <td>5.605903e+05</td>\n",
       "      <td>5.821778e+05</td>\n",
       "      <td>5.991414e+05</td>\n",
       "    </tr>\n",
       "    <tr>\n",
       "      <th>std</th>\n",
       "      <td>1.977386e+06</td>\n",
       "      <td>2.249103e+06</td>\n",
       "      <td>2.377764e+06</td>\n",
       "      <td>2.484240e+06</td>\n",
       "      <td>2.593048e+06</td>\n",
       "      <td>2.693421e+06</td>\n",
       "    </tr>\n",
       "    <tr>\n",
       "      <th>min</th>\n",
       "      <td>5.200000e+01</td>\n",
       "      <td>6.200000e+01</td>\n",
       "      <td>6.100000e+01</td>\n",
       "      <td>6.300000e+01</td>\n",
       "      <td>6.500000e+01</td>\n",
       "      <td>6.500000e+01</td>\n",
       "    </tr>\n",
       "    <tr>\n",
       "      <th>25%</th>\n",
       "      <td>8.628000e+03</td>\n",
       "      <td>9.484000e+03</td>\n",
       "      <td>1.253100e+04</td>\n",
       "      <td>1.240200e+04</td>\n",
       "      <td>1.337000e+04</td>\n",
       "      <td>1.421400e+04</td>\n",
       "    </tr>\n",
       "    <tr>\n",
       "      <th>50%</th>\n",
       "      <td>3.543200e+04</td>\n",
       "      <td>3.820900e+04</td>\n",
       "      <td>4.195300e+04</td>\n",
       "      <td>4.395800e+04</td>\n",
       "      <td>4.694300e+04</td>\n",
       "      <td>4.782900e+04</td>\n",
       "    </tr>\n",
       "    <tr>\n",
       "      <th>75%</th>\n",
       "      <td>2.105410e+05</td>\n",
       "      <td>2.562260e+05</td>\n",
       "      <td>2.804740e+05</td>\n",
       "      <td>2.897810e+05</td>\n",
       "      <td>2.890700e+05</td>\n",
       "      <td>3.032930e+05</td>\n",
       "    </tr>\n",
       "    <tr>\n",
       "      <th>max</th>\n",
       "      <td>2.135412e+07</td>\n",
       "      <td>2.368118e+07</td>\n",
       "      <td>2.600690e+07</td>\n",
       "      <td>2.772072e+07</td>\n",
       "      <td>2.918490e+07</td>\n",
       "      <td>3.050722e+07</td>\n",
       "    </tr>\n",
       "  </tbody>\n",
       "</table>\n",
       "</div>"
      ],
      "text/plain": [
       "               2020          2021          2022          2023          2024  \\\n",
       "count  1.890000e+02  1.890000e+02  1.890000e+02  1.890000e+02  1.890000e+02   \n",
       "mean   4.514222e+05  5.151044e+05  5.367216e+05  5.605903e+05  5.821778e+05   \n",
       "std    1.977386e+06  2.249103e+06  2.377764e+06  2.484240e+06  2.593048e+06   \n",
       "min    5.200000e+01  6.200000e+01  6.100000e+01  6.300000e+01  6.500000e+01   \n",
       "25%    8.628000e+03  9.484000e+03  1.253100e+04  1.240200e+04  1.337000e+04   \n",
       "50%    3.543200e+04  3.820900e+04  4.195300e+04  4.395800e+04  4.694300e+04   \n",
       "75%    2.105410e+05  2.562260e+05  2.804740e+05  2.897810e+05  2.890700e+05   \n",
       "max    2.135412e+07  2.368118e+07  2.600690e+07  2.772072e+07  2.918490e+07   \n",
       "\n",
       "               2025  \n",
       "count  1.890000e+02  \n",
       "mean   5.991414e+05  \n",
       "std    2.693421e+06  \n",
       "min    6.500000e+01  \n",
       "25%    1.421400e+04  \n",
       "50%    4.782900e+04  \n",
       "75%    3.032930e+05  \n",
       "max    3.050722e+07  "
      ]
     },
     "execution_count": 8,
     "metadata": {},
     "output_type": "execute_result"
    }
   ],
   "source": [
    "data.describe()"
   ]
  },
  {
   "cell_type": "code",
   "execution_count": 9,
   "id": "1c5353be",
   "metadata": {},
   "outputs": [],
   "source": [
    "X = data.drop('2025', axis=1)\n",
    "y = data['2025']"
   ]
  },
  {
   "cell_type": "code",
   "execution_count": 10,
   "id": "80b72ed2",
   "metadata": {},
   "outputs": [
    {
     "data": {
      "text/plain": [
       "0.9988535535640458"
      ]
     },
     "execution_count": 10,
     "metadata": {},
     "output_type": "execute_result"
    }
   ],
   "source": [
    "from sklearn.model_selection import train_test_split\n",
    "from sklearn.linear_model import LinearRegression\n",
    "\n",
    "X_train, X_test, y_train, y_test = train_test_split(X, y, train_size=0.3)\n",
    "\n",
    "model = LinearRegression()\n",
    "model.fit(X_train, y_train)\n",
    "\n",
    "score = model.score(X_test, y_test)\n",
    "score"
   ]
  },
  {
   "cell_type": "code",
   "execution_count": 11,
   "id": "1469d0cb",
   "metadata": {},
   "outputs": [
    {
     "data": {
      "text/html": [
       "<div>\n",
       "<style scoped>\n",
       "    .dataframe tbody tr th:only-of-type {\n",
       "        vertical-align: middle;\n",
       "    }\n",
       "\n",
       "    .dataframe tbody tr th {\n",
       "        vertical-align: top;\n",
       "    }\n",
       "\n",
       "    .dataframe thead th {\n",
       "        text-align: right;\n",
       "    }\n",
       "</style>\n",
       "<table border=\"1\" class=\"dataframe\">\n",
       "  <thead>\n",
       "    <tr style=\"text-align: right;\">\n",
       "      <th></th>\n",
       "      <th>2020</th>\n",
       "      <th>2021</th>\n",
       "      <th>2022</th>\n",
       "      <th>2023</th>\n",
       "      <th>2024</th>\n",
       "    </tr>\n",
       "  </thead>\n",
       "  <tbody>\n",
       "    <tr>\n",
       "      <th>151</th>\n",
       "      <td>1384</td>\n",
       "      <td>1490.0</td>\n",
       "      <td>2018.0</td>\n",
       "      <td>2187.0</td>\n",
       "      <td>2168.0</td>\n",
       "    </tr>\n",
       "    <tr>\n",
       "      <th>61</th>\n",
       "      <td>15364</td>\n",
       "      <td>19455.0</td>\n",
       "      <td>20485.0</td>\n",
       "      <td>20059.0</td>\n",
       "      <td>20774.0</td>\n",
       "    </tr>\n",
       "    <tr>\n",
       "      <th>24</th>\n",
       "      <td>1476092</td>\n",
       "      <td>1670650.0</td>\n",
       "      <td>1951849.0</td>\n",
       "      <td>2191137.0</td>\n",
       "      <td>2171337.0</td>\n",
       "    </tr>\n",
       "    <tr>\n",
       "      <th>141</th>\n",
       "      <td>144411</td>\n",
       "      <td>179732.0</td>\n",
       "      <td>235709.0</td>\n",
       "      <td>213003.0</td>\n",
       "      <td>221452.0</td>\n",
       "    </tr>\n",
       "  </tbody>\n",
       "</table>\n",
       "</div>"
      ],
      "text/plain": [
       "        2020       2021       2022       2023       2024\n",
       "151     1384     1490.0     2018.0     2187.0     2168.0\n",
       "61     15364    19455.0    20485.0    20059.0    20774.0\n",
       "24   1476092  1670650.0  1951849.0  2191137.0  2171337.0\n",
       "141   144411   179732.0   235709.0   213003.0   221452.0"
      ]
     },
     "execution_count": 11,
     "metadata": {},
     "output_type": "execute_result"
    }
   ],
   "source": [
    "X_test[1:5]"
   ]
  },
  {
   "cell_type": "code",
   "execution_count": 12,
   "id": "e182c721",
   "metadata": {},
   "outputs": [
    {
     "data": {
      "text/plain": [
       "151       2198.0\n",
       "61       20391.0\n",
       "24     2125958.0\n",
       "141     222776.0\n",
       "Name: 2025, dtype: float64"
      ]
     },
     "execution_count": 12,
     "metadata": {},
     "output_type": "execute_result"
    }
   ],
   "source": [
    "y_test[1:5]"
   ]
  },
  {
   "cell_type": "code",
   "execution_count": 13,
   "id": "10badc87",
   "metadata": {},
   "outputs": [
    {
     "data": {
      "text/plain": [
       "array([1.06792720e+03, 1.97141215e+04, 2.21234763e+06, 2.28019159e+05])"
      ]
     },
     "execution_count": 13,
     "metadata": {},
     "output_type": "execute_result"
    }
   ],
   "source": [
    "y_pred = model.predict(X_test[1:5])\n",
    "y_pred"
   ]
  },
  {
   "cell_type": "code",
   "execution_count": 14,
   "id": "b61bc062",
   "metadata": {},
   "outputs": [
    {
     "name": "stdout",
     "output_type": "stream",
     "text": [
      "MAE:  16125.321278786409\n",
      "MSE:  3737288596.7704306\n"
     ]
    }
   ],
   "source": [
    "from sklearn.metrics import mean_absolute_error, mean_squared_error\n",
    "import numpy as np\n",
    "\n",
    "\n",
    "y_pred2 = model.predict(X_test)\n",
    "mae = mean_absolute_error(y_test, y_pred2)\n",
    "mse = mean_squared_error(y_test, y_pred2)\n",
    "rmse = np.sqrt(mse)\n",
    "print('MAE: ', mae)\n",
    "print('MSE: ', mse)"
   ]
  },
  {
   "cell_type": "code",
   "execution_count": 15,
   "id": "f7f1f780",
   "metadata": {},
   "outputs": [
    {
     "name": "stdout",
     "output_type": "stream",
     "text": [
      "Erro percentual médio (MAPE): 41.17086238321577 %\n"
     ]
    }
   ],
   "source": [
    "mape = np.mean(np.abs((y_test - y_pred2) / y_test)) * 100\n",
    "print(\"Erro percentual médio (MAPE):\", mape, \"%\")"
   ]
  },
  {
   "cell_type": "code",
   "execution_count": 16,
   "id": "8029c0d4",
   "metadata": {},
   "outputs": [
    {
     "data": {
      "image/png": "[encoded data removed]",
      "text/plain": [
       "<Figure size 1200x600 with 1 Axes>"
      ]
     },
     "metadata": {},
     "output_type": "display_data"
    }
   ],
   "source": [
    "import matplotlib.pyplot as plt\n",
    "import numpy as np\n",
    "\n",
    "y_true = y_test\n",
    "y_pred = model.predict(X_test)\n",
    "\n",
    "erros_absolutos = np.abs(y_true - y_pred)\n",
    "erros_percentuais = erros_absolutos / y_true * 100\n",
    "\n",
    "plt.figure(figsize=(12,6))\n",
    "plt.plot(erros_percentuais, 'o', color='red', label='Erro percentual')\n",
    "plt.axhline(y=np.mean(erros_percentuais), color='blue', linestyle='--', label='MAPE médio')\n",
    "plt.xlabel('Índice da amostra')\n",
    "plt.ylabel('Erro percentual (%)')\n",
    "plt.title('Erro percentual de cada previsão')\n",
    "plt.legend()\n",
    "plt.show()\n"
   ]
  }
 ],
 "metadata": {
  "kernelspec": {
   "display_name": ".venv",
   "language": "python",
   "name": "python3"
  },
  "language_info": {
   "codemirror_mode": {
    "name": "ipython",
    "version": 3
   },
   "file_extension": ".py",
   "mimetype": "text/x-python",
   "name": "python",
   "nbconvert_exporter": "python",
   "pygments_lexer": "ipython3",
   "version": "3.13.5"
  }
 },
 "nbformat": 4,
 "nbformat_minor": 5
}
